{
 "cells": [
  {
   "cell_type": "code",
   "execution_count": null,
   "metadata": {},
   "outputs": [],
   "source": [
    "import pathlib\n",
    "import os\n",
    "import requests\n",
    "import json\n",
    "\n",
    "loginurl = 'https://sistemanotas-back.herokuapp.com/usuarios/login'\n",
    "url = 'https://sistemanotas-back.herokuapp.com/usuarios'\n",
    "print(\"Ingrese la contraseña de superadmin\")\n",
    "pw = input()"
   ]
  },
  {
   "cell_type": "code",
   "execution_count": null,
   "metadata": {},
   "outputs": [],
   "source": [
    "login = requests.post(loginurl, data={\"email\":\"cooracad@reuvenschool.edu.co\", \"password\":pw})\n",
    "resp = json.loads(login.text)\n",
    "token = ''\n",
    "if resp[\"success\"]:\n",
    "    token = resp[\"token\"]\n",
    "    headers = {'Authorization': 'Bearer '+token}\n",
    "    x = requests.get(url, headers=headers)\n",
    "    resp = x.json()\n",
    "\n",
    "    for usr in resp:\n",
    "        if usr[u'rol'] == 'PADRE':\n",
    "            url2 = 'https://sistemanotas-back.herokuapp.com/usuarios/cambiarPWUsr'\n",
    "            body={ 'password':'Estudiante.2020', 'nombre_usr':usr[u'nombre_usr'], 'correo':usr[u'correo'], 'rol':'PADRE' }\n",
    "            r = requests.post(url2, data=body, headers=headers)\n",
    "            if r.status_code == 200:\n",
    "                print(\"Reiniciado para \"+usr[u'nombre_usr'])\n",
    "            else:\n",
    "                print(\"No pudo reiniciarse para\"+usr[u'nombre_usr']+\"(\"+usr[u'correo']+\")\")"
   ]
  }
 ],
 "metadata": {
  "kernelspec": {
   "display_name": "Python 3",
   "language": "python",
   "name": "python3"
  },
  "language_info": {
   "codemirror_mode": {
    "name": "ipython",
    "version": 3
   },
   "file_extension": ".py",
   "mimetype": "text/x-python",
   "name": "python",
   "nbconvert_exporter": "python",
   "pygments_lexer": "ipython3",
   "version": "3.7.8"
  }
 },
 "nbformat": 4,
 "nbformat_minor": 4
}
